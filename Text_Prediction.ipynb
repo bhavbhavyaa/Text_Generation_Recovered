{
 "cells": [
  {
   "cell_type": "markdown",
   "metadata": {},
   "source": [
    "![Text](images.jfif)"
   ]
  },
  {
   "cell_type": "code",
   "execution_count": 1,
   "metadata": {
    "execution": {
     "iopub.execute_input": "2021-07-02T02:53:40.751508Z",
     "iopub.status.busy": "2021-07-02T02:53:40.751364Z",
     "iopub.status.idle": "2021-07-02T02:53:41.867164Z",
     "shell.execute_reply": "2021-07-02T02:53:41.866577Z",
     "shell.execute_reply.started": "2021-07-02T02:53:40.751492Z"
    }
   },
   "outputs": [
    {
     "name": "stdout",
     "output_type": "stream",
     "text": [
      "Defaulting to user installation because normal site-packages is not writeable\n",
      "Requirement already satisfied: wget in ./.local/lib/python3.7/site-packages (3.2)\n",
      "\u001b[33mWARNING: You are using pip version 20.3.1; however, version 21.1.3 is available.\n",
      "You should consider upgrading via the '/opt/tljh/user/bin/python -m pip install --upgrade pip' command.\u001b[0m\n"
     ]
    }
   ],
   "source": [
    "!pip install wget"
   ]
  },
  {
   "cell_type": "code",
   "execution_count": 2,
   "metadata": {
    "execution": {
     "iopub.execute_input": "2021-07-02T02:53:41.868347Z",
     "iopub.status.busy": "2021-07-02T02:53:41.868170Z",
     "iopub.status.idle": "2021-07-02T02:53:43.339406Z",
     "shell.execute_reply": "2021-07-02T02:53:43.338835Z",
     "shell.execute_reply.started": "2021-07-02T02:53:41.868326Z"
    }
   },
   "outputs": [],
   "source": [
    "import wget\n",
    "import numpy as np\n",
    "import pandas as pd\n",
    "import matplotlib.pyplot as plt\n",
    "import tensorflow as tf\n",
    "import string\n",
    "%matplotlib inline"
   ]
  },
  {
   "cell_type": "code",
   "execution_count": 3,
   "metadata": {
    "execution": {
     "iopub.execute_input": "2021-07-02T02:53:43.340403Z",
     "iopub.status.busy": "2021-07-02T02:53:43.340234Z",
     "iopub.status.idle": "2021-07-02T02:53:43.395287Z",
     "shell.execute_reply": "2021-07-02T02:53:43.394737Z",
     "shell.execute_reply.started": "2021-07-02T02:53:43.340384Z"
    }
   },
   "outputs": [
    {
     "name": "stdout",
     "output_type": "stream",
     "text": [
      "“ Good afternoon, and thank you and, wow. I am so privileged and so honored to be sharing this afternoon with all of you and these incredibly amazing women that are being honored today.\n",
      "I’d like to extend my congratulations to each one of you, Octavia, Michelle, Kelly, Patty, and all fifty women that have been included in the impact report.\n",
      "Your achievements not just inspire me but also so many others to work harder to be better and to make a dent wherever we can.\n",
      "So, I’m very, very proud to be standing alongside you.\n",
      "So, in life you know there are moments when you stop and ask yourself: “How did I get here?”\n",
      "Like: “Why am I standing here?”\n",
      "Well, this is definitely one of those moments for me and I find myself going back to the beginning, back to my roots.\n",
      "I was born to incredible parents, amazing parents who served as doctors in the Indian Army.\n",
      "I was the first born and as far back as I can remember I made my parents very proud and happy 99% of the time.\n",
      "Okay, slight exaggerations of personal achievements are allowed from time to time, don’t you think?\n",
      "My brother was born a few years later and even then, nothing changed for me.\n",
      "We were both given equal opportunities, and I want to emphasize this, I want to really emphasize this for you because I don’t think a lot of people might understand that being equal might seem very normal but where I come from India and a lot of developing countries around the world more of not this is an exception.\n",
      "It’s actually a privilege.\n",
      "My first experience of the glaring disparity between boys and girls came at a very, very young age.\n",
      "I grew up in a middle-class family with extremely philanthropic parents who constantly reminded me and my brother how lucky we were and how giving back to those who were less fortunate was not a choice it was a way of life.\n",
      "Simple.\n",
      "I was seven or eight years old when my parents started taking me on these visits in a traveling clinic to developing communities around and villages around the city that we lived in called Bareilly.\n",
      "We were packed into this ambulance and would my parents would provide free medical care to people who couldn’t afford it.\n",
      "My job at the age of eight was an assistant pharmacist.\n",
      "I would count all the medicines put them in an envelope and give it out to patients, and I really took my job very seriously, very seriously.\n",
      "But the more I went on these expeditions, the more I began to notice the simplest things that distinguished a boy from a girl or a man from a woman.\n",
      "For example, girls were pulled out of school when they hit puberty because they were considered ready for marriage and babies.\n",
      "That’s 12 and 13 while boys still enjoyed their childhood.\n",
      "Or basic human rights such as health care were denied just because they were women.\n",
      "Let this, let’s call this whole experience trigger number one for me.\n",
      "Fast-forward a few years and many, many triggers in between.\n",
      "Like a producer-director for example early on in my career, I must have been about 18 or 19, telling me that if I didn’t agree to the ridiculous terms or painfully low salary in his movie that he would just replace me because girls are replaceable in the entertainment business.\n",
      "That was a memorable one.\n",
      "Made me decide to make myself irreplaceable.\n",
      "But I think what really moved the needle for me and ultimately led me to create the Priyanka Chopra foundation for health and education and around the same time partner with UNICEF was an encounter with my housekeeper’s daughter.\n",
      "About 12 years ago I came home from set early one day and she was sitting in my library reading a book and she must have been eight or nine years old and I knew she loved reading.\n",
      "So, I asked her, I was like, this is, I mean, it’s a weekday why aren’t you in school?\n",
      "And she said: “Oh, I don’t go to school anymore.”\n",
      "So, I went and asked her mother and I said, you know: “Why isn’t she in school?”\n",
      "And her mom said that her family couldn’t afford to send her and her brother’s to school, so they chose the boys.\n",
      "The reason, she would eventually get married and it would be a waste of money.\n",
      "I was completely blown, and it shook me to my core.\n",
      "Eventually, I decided to cover the cost of her education so that she could continue to learn because education is a basic human right.\n",
      "And a huge necessity especially today.\n",
      "From that point on I was determined to make a difference and as many children’s lives as I could.\n",
      "In whatever big or small way that I could contribute.\n",
      "There’s a really, really beautiful quote that I read recently, and I think it’s absolutely appropriate to say, to explain what I’m trying to say today.\n",
      "“The hand that rocks the cradle, the procreator, the mother of tomorrow; a woman shapes the destiny of civilization. Such is the tragic irony of fate, that a beautiful creation such as a girl child is today one of the gravest concerns facing humanity.”\n",
      "Girls have the power to change the world.\n",
      "It is a fact and yet today girls are more likely than boys never to set foot in a classroom.\n",
      "Despite all the efforts and progress made over the last two decades. More than, I’m just gonna give you a stat, more than 15 million girls of primary school age will never learn how to read or write compared to 10 million boys.\n",
      "Primary school it’s the beginning of our future.\n",
      "Over the last 11 years, I have witnessed firsthand the incredible work that UNICEF does for children around the world. Especially victims and survivors of child marriage, displacement, war, sexual violence.\n",
      "But there is still so much work to do.\n",
      "And for me, that is the fuel to my fire.\n",
      "The reason I’m so committed to this cause and that is where my passion stems from because I know that a girl’s education not just empowers families but communities and economies.\n",
      "A result of her education we all do better. It’s just as simple as that.\n",
      "As entertainers and influencers sitting in this room I feel that is our social responsibility to be a voice for the voiceless, which is why I applaud each and every woman in this room for being such a badass.\n",
      "For using your platform and your voice to contribute to change and for ensuring that there is not even one lost generation as long as we are alive.\n",
      "I’d like to thank variety and all of you for encouraging me and all of us in this room to keep going and fighting on.\n",
      "Thank you so much.\n"
     ]
    }
   ],
   "source": [
    "url = 'https://cainvas-static.s3.amazonaws.com/media/user_data/Bhavyaaa/Speech.txt'\n",
    "Speech = wget.download(url)\n",
    "response = open(Speech,'r')\n",
    "response = response.read()\n",
    "print(response)\n",
    "#print(response.text)"
   ]
  },
  {
   "cell_type": "code",
   "execution_count": 4,
   "metadata": {
    "execution": {
     "iopub.execute_input": "2021-07-02T02:53:43.396133Z",
     "iopub.status.busy": "2021-07-02T02:53:43.395978Z",
     "iopub.status.idle": "2021-07-02T02:53:43.400812Z",
     "shell.execute_reply": "2021-07-02T02:53:43.400383Z",
     "shell.execute_reply.started": "2021-07-02T02:53:43.396116Z"
    }
   },
   "outputs": [
    {
     "data": {
      "text/plain": [
       "['“ Good afternoon, and thank you and, wow. I am so privileged and so honored to be sharing this afternoon with all of you and these incredibly amazing women that are being honored today.',\n",
       " 'I’d like to extend my congratulations to each one of you, Octavia, Michelle, Kelly, Patty, and all fifty women that have been included in the impact report.',\n",
       " 'Your achievements not just inspire me but also so many others to work harder to be better and to make a dent wherever we can.',\n",
       " 'So, I’m very, very proud to be standing alongside you.',\n",
       " 'So, in life you know there are moments when you stop and ask yourself: “How did I get here?”',\n",
       " 'Like: “Why am I standing here?”']"
      ]
     },
     "execution_count": 4,
     "metadata": {},
     "output_type": "execute_result"
    }
   ],
   "source": [
    "data = response.split(\"\\n\")\n",
    "data[:6]"
   ]
  },
  {
   "cell_type": "code",
   "execution_count": 5,
   "metadata": {
    "execution": {
     "iopub.execute_input": "2021-07-02T02:53:43.402701Z",
     "iopub.status.busy": "2021-07-02T02:53:43.402490Z",
     "iopub.status.idle": "2021-07-02T02:53:43.405477Z",
     "shell.execute_reply": "2021-07-02T02:53:43.404986Z",
     "shell.execute_reply.started": "2021-07-02T02:53:43.402683Z"
    }
   },
   "outputs": [
    {
     "name": "stdout",
     "output_type": "stream",
     "text": [
      "Total lines: 56\n"
     ]
    }
   ],
   "source": [
    "print(\"Total lines:\",len(data))"
   ]
  },
  {
   "cell_type": "code",
   "execution_count": 6,
   "metadata": {
    "execution": {
     "iopub.execute_input": "2021-07-02T02:53:43.406680Z",
     "iopub.status.busy": "2021-07-02T02:53:43.406529Z",
     "iopub.status.idle": "2021-07-02T02:53:43.410017Z",
     "shell.execute_reply": "2021-07-02T02:53:43.409579Z",
     "shell.execute_reply.started": "2021-07-02T02:53:43.406664Z"
    }
   },
   "outputs": [
    {
     "data": {
      "text/plain": [
       "'“ Good afternoon, an'"
      ]
     },
     "execution_count": 6,
     "metadata": {},
     "output_type": "execute_result"
    }
   ],
   "source": [
    "data = \" \".join(data)\n",
    "data[:20]"
   ]
  },
  {
   "cell_type": "code",
   "execution_count": 7,
   "metadata": {
    "execution": {
     "iopub.execute_input": "2021-07-02T02:53:43.410757Z",
     "iopub.status.busy": "2021-07-02T02:53:43.410617Z",
     "iopub.status.idle": "2021-07-02T02:53:43.414014Z",
     "shell.execute_reply": "2021-07-02T02:53:43.413568Z",
     "shell.execute_reply.started": "2021-07-02T02:53:43.410741Z"
    }
   },
   "outputs": [],
   "source": [
    "def clean(doc):\n",
    "    tokens = doc.split()\n",
    "    table = str.maketrans(\"\",\"\",string.punctuation)\n",
    "    tokens = [w.translate(table) for w in tokens]\n",
    "    tokens = [word for word in tokens if word.isalpha()]\n",
    "    tokens = [word.lower() for word in tokens]\n",
    "    return tokens"
   ]
  },
  {
   "cell_type": "code",
   "execution_count": 8,
   "metadata": {
    "execution": {
     "iopub.execute_input": "2021-07-02T02:53:43.414727Z",
     "iopub.status.busy": "2021-07-02T02:53:43.414589Z",
     "iopub.status.idle": "2021-07-02T02:53:43.418812Z",
     "shell.execute_reply": "2021-07-02T02:53:43.418379Z",
     "shell.execute_reply.started": "2021-07-02T02:53:43.414711Z"
    }
   },
   "outputs": [],
   "source": [
    "tokens = clean(data)"
   ]
  },
  {
   "cell_type": "code",
   "execution_count": 9,
   "metadata": {
    "execution": {
     "iopub.execute_input": "2021-07-02T02:53:43.419975Z",
     "iopub.status.busy": "2021-07-02T02:53:43.419731Z",
     "iopub.status.idle": "2021-07-02T02:53:43.426152Z",
     "shell.execute_reply": "2021-07-02T02:53:43.425555Z",
     "shell.execute_reply.started": "2021-07-02T02:53:43.419947Z"
    }
   },
   "outputs": [
    {
     "name": "stdout",
     "output_type": "stream",
     "text": [
      "1067\n",
      "['good afternoon and thank you and wow i am so privileged and so honored to be sharing this afternoon with all of you and these incredibly amazing women that are being honored today like to extend my congratulations to each one of you octavia michelle kelly patty and all fifty women', 'afternoon and thank you and wow i am so privileged and so honored to be sharing this afternoon with all of you and these incredibly amazing women that are being honored today like to extend my congratulations to each one of you octavia michelle kelly patty and all fifty women that', 'and thank you and wow i am so privileged and so honored to be sharing this afternoon with all of you and these incredibly amazing women that are being honored today like to extend my congratulations to each one of you octavia michelle kelly patty and all fifty women that have', 'thank you and wow i am so privileged and so honored to be sharing this afternoon with all of you and these incredibly amazing women that are being honored today like to extend my congratulations to each one of you octavia michelle kelly patty and all fifty women that have been', 'you and wow i am so privileged and so honored to be sharing this afternoon with all of you and these incredibly amazing women that are being honored today like to extend my congratulations to each one of you octavia michelle kelly patty and all fifty women that have been included', 'and wow i am so privileged and so honored to be sharing this afternoon with all of you and these incredibly amazing women that are being honored today like to extend my congratulations to each one of you octavia michelle kelly patty and all fifty women that have been included in']\n"
     ]
    }
   ],
   "source": [
    "length = 50 + 1\n",
    "lines = []\n",
    "for i in range(length,len(tokens)):\n",
    "    sequence = tokens[i-length:i]\n",
    "    line = \" \".join(sequence)\n",
    "    lines.append(line)\n",
    "print(len(lines)) \n",
    "print(lines[:6])   "
   ]
  },
  {
   "cell_type": "code",
   "execution_count": 10,
   "metadata": {
    "execution": {
     "iopub.execute_input": "2021-07-02T02:53:43.427207Z",
     "iopub.status.busy": "2021-07-02T02:53:43.426978Z",
     "iopub.status.idle": "2021-07-02T02:53:43.430953Z",
     "shell.execute_reply": "2021-07-02T02:53:43.430362Z",
     "shell.execute_reply.started": "2021-07-02T02:53:43.427178Z"
    }
   },
   "outputs": [
    {
     "name": "stdout",
     "output_type": "stream",
     "text": [
      "First line: good afternoon and thank you and wow i am so privileged and so honored to be sharing this afternoon with all of you and these incredibly amazing women that are being honored today like to extend my congratulations to each one of you octavia michelle kelly patty and all fifty women\n",
      "First token: good\n"
     ]
    }
   ],
   "source": [
    "print(\"First line:\",lines[0])\n",
    "print(\"First token:\",tokens[0])"
   ]
  },
  {
   "cell_type": "code",
   "execution_count": 11,
   "metadata": {
    "execution": {
     "iopub.execute_input": "2021-07-02T02:53:43.432118Z",
     "iopub.status.busy": "2021-07-02T02:53:43.431883Z",
     "iopub.status.idle": "2021-07-02T02:53:43.435683Z",
     "shell.execute_reply": "2021-07-02T02:53:43.435087Z",
     "shell.execute_reply.started": "2021-07-02T02:53:43.432091Z"
    }
   },
   "outputs": [],
   "source": [
    "from tensorflow.keras.preprocessing.text import Tokenizer\n",
    "from tensorflow.keras.utils import to_categorical\n",
    "from tensorflow.keras.models import Sequential\n",
    "from tensorflow.keras.layers import Dense,LSTM,Embedding\n",
    "from tensorflow.keras.preprocessing.sequence import pad_sequences\n",
    "from tensorflow.keras.models import load_model"
   ]
  },
  {
   "cell_type": "code",
   "execution_count": 12,
   "metadata": {
    "execution": {
     "iopub.execute_input": "2021-07-02T02:53:43.436842Z",
     "iopub.status.busy": "2021-07-02T02:53:43.436613Z",
     "iopub.status.idle": "2021-07-02T02:53:43.498654Z",
     "shell.execute_reply": "2021-07-02T02:53:43.498221Z",
     "shell.execute_reply.started": "2021-07-02T02:53:43.436815Z"
    }
   },
   "outputs": [],
   "source": [
    "tokenizer = Tokenizer()\n",
    "tokenizer.fit_on_texts(lines)\n",
    "sequences = tokenizer.texts_to_sequences(lines)\n",
    "sequences = np.array(sequences)"
   ]
  },
  {
   "cell_type": "code",
   "execution_count": 13,
   "metadata": {
    "execution": {
     "iopub.execute_input": "2021-07-02T02:53:43.499804Z",
     "iopub.status.busy": "2021-07-02T02:53:43.499574Z",
     "iopub.status.idle": "2021-07-02T02:53:43.502827Z",
     "shell.execute_reply": "2021-07-02T02:53:43.502218Z",
     "shell.execute_reply.started": "2021-07-02T02:53:43.499777Z"
    }
   },
   "outputs": [],
   "source": [
    "X, y = sequences[:,:-1],sequences[:,-1]"
   ]
  },
  {
   "cell_type": "code",
   "execution_count": 14,
   "metadata": {
    "execution": {
     "iopub.execute_input": "2021-07-02T02:53:43.504002Z",
     "iopub.status.busy": "2021-07-02T02:53:43.503772Z",
     "iopub.status.idle": "2021-07-02T02:53:43.507838Z",
     "shell.execute_reply": "2021-07-02T02:53:43.507221Z",
     "shell.execute_reply.started": "2021-07-02T02:53:43.503976Z"
    }
   },
   "outputs": [
    {
     "name": "stdout",
     "output_type": "stream",
     "text": [
      "[434 426   1 421  16   1 432   3 156  17 430   1  17 412   2  45 428  14\n",
      " 426  56  37   6  16   1  76 424 155  75   7  36  74 412  44  46   2 418\n",
      "   9 417   2 153  25   6  16 415 414 413 411   1  37 410]\n",
      "75\n"
     ]
    }
   ],
   "source": [
    "print(X[0])\n",
    "print(y[0])"
   ]
  },
  {
   "cell_type": "code",
   "execution_count": 15,
   "metadata": {
    "execution": {
     "iopub.execute_input": "2021-07-02T02:53:43.509000Z",
     "iopub.status.busy": "2021-07-02T02:53:43.508750Z",
     "iopub.status.idle": "2021-07-02T02:53:43.511815Z",
     "shell.execute_reply": "2021-07-02T02:53:43.511332Z",
     "shell.execute_reply.started": "2021-07-02T02:53:43.508973Z"
    }
   },
   "outputs": [],
   "source": [
    "vocab_size  = len(tokenizer.word_index) + 1"
   ]
  },
  {
   "cell_type": "code",
   "execution_count": 16,
   "metadata": {
    "execution": {
     "iopub.execute_input": "2021-07-02T02:53:43.512647Z",
     "iopub.status.busy": "2021-07-02T02:53:43.512495Z",
     "iopub.status.idle": "2021-07-02T02:53:43.516759Z",
     "shell.execute_reply": "2021-07-02T02:53:43.516326Z",
     "shell.execute_reply.started": "2021-07-02T02:53:43.512631Z"
    }
   },
   "outputs": [],
   "source": [
    "y = to_categorical(y,num_classes = vocab_size)"
   ]
  },
  {
   "cell_type": "code",
   "execution_count": 17,
   "metadata": {
    "execution": {
     "iopub.execute_input": "2021-07-02T02:53:43.517578Z",
     "iopub.status.busy": "2021-07-02T02:53:43.517427Z",
     "iopub.status.idle": "2021-07-02T02:53:45.084110Z",
     "shell.execute_reply": "2021-07-02T02:53:45.083583Z",
     "shell.execute_reply.started": "2021-07-02T02:53:43.517561Z"
    }
   },
   "outputs": [],
   "source": [
    "model = Sequential()\n",
    "model.add(Embedding(vocab_size,50,input_length = 50))\n",
    "model.add(LSTM(100, return_sequences = True))\n",
    "model.add(LSTM(100))\n",
    "model.add(Dense(100,activation = \"relu\"))\n",
    "model.add(Dense(vocab_size,activation = \"softmax\"))"
   ]
  },
  {
   "cell_type": "code",
   "execution_count": 18,
   "metadata": {
    "execution": {
     "iopub.execute_input": "2021-07-02T02:53:45.085095Z",
     "iopub.status.busy": "2021-07-02T02:53:45.084919Z",
     "iopub.status.idle": "2021-07-02T02:53:45.090460Z",
     "shell.execute_reply": "2021-07-02T02:53:45.089976Z",
     "shell.execute_reply.started": "2021-07-02T02:53:45.085076Z"
    }
   },
   "outputs": [
    {
     "name": "stdout",
     "output_type": "stream",
     "text": [
      "Model: \"sequential\"\n",
      "_________________________________________________________________\n",
      "Layer (type)                 Output Shape              Param #   \n",
      "=================================================================\n",
      "embedding (Embedding)        (None, 50, 50)            21750     \n",
      "_________________________________________________________________\n",
      "lstm (LSTM)                  (None, 50, 100)           60400     \n",
      "_________________________________________________________________\n",
      "lstm_1 (LSTM)                (None, 100)               80400     \n",
      "_________________________________________________________________\n",
      "dense (Dense)                (None, 100)               10100     \n",
      "_________________________________________________________________\n",
      "dense_1 (Dense)              (None, 435)               43935     \n",
      "=================================================================\n",
      "Total params: 216,585\n",
      "Trainable params: 216,585\n",
      "Non-trainable params: 0\n",
      "_________________________________________________________________\n"
     ]
    }
   ],
   "source": [
    "model.summary()"
   ]
  },
  {
   "cell_type": "code",
   "execution_count": 19,
   "metadata": {
    "execution": {
     "iopub.execute_input": "2021-07-02T02:53:45.091315Z",
     "iopub.status.busy": "2021-07-02T02:53:45.091133Z",
     "iopub.status.idle": "2021-07-02T02:53:45.100690Z",
     "shell.execute_reply": "2021-07-02T02:53:45.100239Z",
     "shell.execute_reply.started": "2021-07-02T02:53:45.091296Z"
    }
   },
   "outputs": [],
   "source": [
    "model.compile(optimizer =\"adam\" , loss =\"categorical_crossentropy\"  ,metrics = [\"accuracy\"])"
   ]
  },
  {
   "cell_type": "code",
   "execution_count": 20,
   "metadata": {
    "execution": {
     "iopub.execute_input": "2021-07-02T02:53:45.101580Z",
     "iopub.status.busy": "2021-07-02T02:53:45.101427Z",
     "iopub.status.idle": "2021-07-02T02:54:18.855771Z",
     "shell.execute_reply": "2021-07-02T02:54:18.855264Z",
     "shell.execute_reply.started": "2021-07-02T02:53:45.101563Z"
    }
   },
   "outputs": [
    {
     "name": "stdout",
     "output_type": "stream",
     "text": [
      "Epoch 1/150\n",
      "34/34 [==============================] - 0s 9ms/step - loss: 5.8935 - accuracy: 0.0403\n",
      "Epoch 2/150\n",
      "34/34 [==============================] - 0s 6ms/step - loss: 5.5077 - accuracy: 0.0356\n",
      "Epoch 3/150\n",
      "34/34 [==============================] - 0s 6ms/step - loss: 5.4257 - accuracy: 0.0337\n",
      "Epoch 4/150\n",
      "34/34 [==============================] - 0s 6ms/step - loss: 5.4018 - accuracy: 0.0272\n",
      "Epoch 5/150\n",
      "34/34 [==============================] - 0s 6ms/step - loss: 5.3946 - accuracy: 0.0300\n",
      "Epoch 6/150\n",
      "34/34 [==============================] - 0s 6ms/step - loss: 5.3856 - accuracy: 0.0422\n",
      "Epoch 7/150\n",
      "34/34 [==============================] - 0s 6ms/step - loss: 5.3813 - accuracy: 0.0440\n",
      "Epoch 8/150\n",
      "34/34 [==============================] - 0s 6ms/step - loss: 5.3606 - accuracy: 0.0440\n",
      "Epoch 9/150\n",
      "34/34 [==============================] - 0s 6ms/step - loss: 5.2871 - accuracy: 0.0440\n",
      "Epoch 10/150\n",
      "34/34 [==============================] - 0s 6ms/step - loss: 5.1661 - accuracy: 0.0384\n",
      "Epoch 11/150\n",
      "34/34 [==============================] - 0s 6ms/step - loss: 5.0787 - accuracy: 0.0412\n",
      "Epoch 12/150\n",
      "34/34 [==============================] - 0s 6ms/step - loss: 5.0374 - accuracy: 0.0347\n",
      "Epoch 13/150\n",
      "34/34 [==============================] - 0s 6ms/step - loss: 4.9742 - accuracy: 0.0394\n",
      "Epoch 14/150\n",
      "34/34 [==============================] - 0s 6ms/step - loss: 4.8886 - accuracy: 0.0450\n",
      "Epoch 15/150\n",
      "34/34 [==============================] - 0s 6ms/step - loss: 4.8056 - accuracy: 0.0609\n",
      "Epoch 16/150\n",
      "34/34 [==============================] - 0s 6ms/step - loss: 4.7236 - accuracy: 0.0647\n",
      "Epoch 17/150\n",
      "34/34 [==============================] - 0s 6ms/step - loss: 4.6288 - accuracy: 0.0600\n",
      "Epoch 18/150\n",
      "34/34 [==============================] - 0s 6ms/step - loss: 4.5370 - accuracy: 0.0731\n",
      "Epoch 19/150\n",
      "34/34 [==============================] - 0s 6ms/step - loss: 4.4309 - accuracy: 0.0703\n",
      "Epoch 20/150\n",
      "34/34 [==============================] - 0s 6ms/step - loss: 4.3400 - accuracy: 0.0694\n",
      "Epoch 21/150\n",
      "34/34 [==============================] - 0s 6ms/step - loss: 4.2297 - accuracy: 0.0750\n",
      "Epoch 22/150\n",
      "34/34 [==============================] - 0s 6ms/step - loss: 4.1413 - accuracy: 0.0797\n",
      "Epoch 23/150\n",
      "34/34 [==============================] - 0s 6ms/step - loss: 4.0612 - accuracy: 0.0872\n",
      "Epoch 24/150\n",
      "34/34 [==============================] - 0s 6ms/step - loss: 3.9634 - accuracy: 0.0947\n",
      "Epoch 25/150\n",
      "34/34 [==============================] - 0s 6ms/step - loss: 3.9000 - accuracy: 0.0956\n",
      "Epoch 26/150\n",
      "34/34 [==============================] - 0s 6ms/step - loss: 3.8277 - accuracy: 0.1068\n",
      "Epoch 27/150\n",
      "34/34 [==============================] - 0s 6ms/step - loss: 3.7469 - accuracy: 0.0947\n",
      "Epoch 28/150\n",
      "34/34 [==============================] - 0s 6ms/step - loss: 3.6409 - accuracy: 0.1162\n",
      "Epoch 29/150\n",
      "34/34 [==============================] - 0s 6ms/step - loss: 3.5830 - accuracy: 0.1040\n",
      "Epoch 30/150\n",
      "34/34 [==============================] - 0s 6ms/step - loss: 3.4917 - accuracy: 0.1181\n",
      "Epoch 31/150\n",
      "34/34 [==============================] - 0s 6ms/step - loss: 3.4309 - accuracy: 0.1303\n",
      "Epoch 32/150\n",
      "34/34 [==============================] - 0s 6ms/step - loss: 3.3225 - accuracy: 0.1443\n",
      "Epoch 33/150\n",
      "34/34 [==============================] - 0s 6ms/step - loss: 3.2647 - accuracy: 0.1462\n",
      "Epoch 34/150\n",
      "34/34 [==============================] - 0s 6ms/step - loss: 3.1956 - accuracy: 0.1425\n",
      "Epoch 35/150\n",
      "34/34 [==============================] - 0s 6ms/step - loss: 3.1571 - accuracy: 0.1462\n",
      "Epoch 36/150\n",
      "34/34 [==============================] - 0s 6ms/step - loss: 3.0565 - accuracy: 0.1649\n",
      "Epoch 37/150\n",
      "34/34 [==============================] - 0s 6ms/step - loss: 2.9996 - accuracy: 0.1884\n",
      "Epoch 38/150\n",
      "34/34 [==============================] - 0s 6ms/step - loss: 2.9466 - accuracy: 0.1799\n",
      "Epoch 39/150\n",
      "34/34 [==============================] - 0s 6ms/step - loss: 2.8936 - accuracy: 0.1949\n",
      "Epoch 40/150\n",
      "34/34 [==============================] - 0s 6ms/step - loss: 2.8541 - accuracy: 0.2006\n",
      "Epoch 41/150\n",
      "34/34 [==============================] - 0s 6ms/step - loss: 2.7857 - accuracy: 0.2259\n",
      "Epoch 42/150\n",
      "34/34 [==============================] - 0s 6ms/step - loss: 2.7312 - accuracy: 0.2446\n",
      "Epoch 43/150\n",
      "34/34 [==============================] - 0s 6ms/step - loss: 2.7052 - accuracy: 0.2437\n",
      "Epoch 44/150\n",
      "34/34 [==============================] - 0s 6ms/step - loss: 2.6293 - accuracy: 0.2690\n",
      "Epoch 45/150\n",
      "34/34 [==============================] - 0s 6ms/step - loss: 2.5958 - accuracy: 0.2671\n",
      "Epoch 46/150\n",
      "34/34 [==============================] - 0s 6ms/step - loss: 2.5363 - accuracy: 0.2849\n",
      "Epoch 47/150\n",
      "34/34 [==============================] - 0s 6ms/step - loss: 2.4836 - accuracy: 0.3261\n",
      "Epoch 48/150\n",
      "34/34 [==============================] - 0s 6ms/step - loss: 2.4338 - accuracy: 0.3308\n",
      "Epoch 49/150\n",
      "34/34 [==============================] - 0s 6ms/step - loss: 2.3857 - accuracy: 0.3449\n",
      "Epoch 50/150\n",
      "34/34 [==============================] - 0s 6ms/step - loss: 2.3367 - accuracy: 0.3561\n",
      "Epoch 51/150\n",
      "34/34 [==============================] - 0s 6ms/step - loss: 2.3231 - accuracy: 0.3402\n",
      "Epoch 52/150\n",
      "34/34 [==============================] - 0s 6ms/step - loss: 2.2504 - accuracy: 0.3843\n",
      "Epoch 53/150\n",
      "34/34 [==============================] - 0s 6ms/step - loss: 2.1874 - accuracy: 0.3983\n",
      "Epoch 54/150\n",
      "34/34 [==============================] - 0s 6ms/step - loss: 2.1273 - accuracy: 0.4171\n",
      "Epoch 55/150\n",
      "34/34 [==============================] - 0s 6ms/step - loss: 2.1044 - accuracy: 0.4255\n",
      "Epoch 56/150\n",
      "34/34 [==============================] - 0s 6ms/step - loss: 2.0584 - accuracy: 0.4114\n",
      "Epoch 57/150\n",
      "34/34 [==============================] - 0s 6ms/step - loss: 2.0095 - accuracy: 0.4583\n",
      "Epoch 58/150\n",
      "34/34 [==============================] - 0s 6ms/step - loss: 1.9429 - accuracy: 0.4789\n",
      "Epoch 59/150\n",
      "34/34 [==============================] - 0s 6ms/step - loss: 1.9046 - accuracy: 0.4705\n",
      "Epoch 60/150\n",
      "34/34 [==============================] - 0s 6ms/step - loss: 1.8728 - accuracy: 0.4958\n",
      "Epoch 61/150\n",
      "34/34 [==============================] - 0s 6ms/step - loss: 1.8369 - accuracy: 0.4752\n",
      "Epoch 62/150\n",
      "34/34 [==============================] - 0s 6ms/step - loss: 1.7834 - accuracy: 0.5080\n",
      "Epoch 63/150\n",
      "34/34 [==============================] - 0s 6ms/step - loss: 1.7272 - accuracy: 0.5164\n",
      "Epoch 64/150\n",
      "34/34 [==============================] - 0s 6ms/step - loss: 1.6937 - accuracy: 0.5351\n",
      "Epoch 65/150\n",
      "34/34 [==============================] - 0s 6ms/step - loss: 1.6553 - accuracy: 0.5483\n",
      "Epoch 66/150\n",
      "34/34 [==============================] - 0s 6ms/step - loss: 1.6005 - accuracy: 0.5708\n",
      "Epoch 67/150\n",
      "34/34 [==============================] - 0s 6ms/step - loss: 1.5783 - accuracy: 0.5708\n",
      "Epoch 68/150\n",
      "34/34 [==============================] - 0s 6ms/step - loss: 1.5278 - accuracy: 0.5895\n",
      "Epoch 69/150\n",
      "34/34 [==============================] - 0s 6ms/step - loss: 1.4860 - accuracy: 0.6017\n",
      "Epoch 70/150\n",
      "34/34 [==============================] - 0s 6ms/step - loss: 1.4462 - accuracy: 0.6101\n",
      "Epoch 71/150\n",
      "34/34 [==============================] - 0s 6ms/step - loss: 1.4065 - accuracy: 0.6223\n",
      "Epoch 72/150\n",
      "34/34 [==============================] - 0s 6ms/step - loss: 1.3577 - accuracy: 0.6345\n",
      "Epoch 73/150\n",
      "34/34 [==============================] - 0s 6ms/step - loss: 1.3188 - accuracy: 0.6336\n",
      "Epoch 74/150\n",
      "34/34 [==============================] - 0s 6ms/step - loss: 1.3111 - accuracy: 0.6439\n",
      "Epoch 75/150\n",
      "34/34 [==============================] - 0s 6ms/step - loss: 1.2451 - accuracy: 0.6776\n",
      "Epoch 76/150\n",
      "34/34 [==============================] - 0s 6ms/step - loss: 1.2102 - accuracy: 0.6851\n",
      "Epoch 77/150\n",
      "34/34 [==============================] - 0s 6ms/step - loss: 1.1818 - accuracy: 0.6992\n",
      "Epoch 78/150\n",
      "34/34 [==============================] - 0s 6ms/step - loss: 1.1574 - accuracy: 0.6973\n",
      "Epoch 79/150\n",
      "34/34 [==============================] - 0s 6ms/step - loss: 1.1118 - accuracy: 0.7104\n",
      "Epoch 80/150\n",
      "34/34 [==============================] - 0s 6ms/step - loss: 1.0847 - accuracy: 0.7179\n",
      "Epoch 81/150\n",
      "34/34 [==============================] - 0s 6ms/step - loss: 1.0411 - accuracy: 0.7395\n",
      "Epoch 82/150\n",
      "34/34 [==============================] - 0s 6ms/step - loss: 0.9993 - accuracy: 0.7479\n",
      "Epoch 83/150\n",
      "34/34 [==============================] - 0s 6ms/step - loss: 0.9636 - accuracy: 0.7554\n",
      "Epoch 84/150\n",
      "34/34 [==============================] - 0s 6ms/step - loss: 0.9496 - accuracy: 0.7591\n",
      "Epoch 85/150\n",
      "34/34 [==============================] - 0s 6ms/step - loss: 0.9250 - accuracy: 0.7535\n",
      "Epoch 86/150\n",
      "34/34 [==============================] - 0s 6ms/step - loss: 0.8904 - accuracy: 0.7807\n",
      "Epoch 87/150\n",
      "34/34 [==============================] - 0s 6ms/step - loss: 0.8591 - accuracy: 0.7957\n",
      "Epoch 88/150\n",
      "34/34 [==============================] - 0s 6ms/step - loss: 0.8287 - accuracy: 0.7966\n",
      "Epoch 89/150\n",
      "34/34 [==============================] - 0s 6ms/step - loss: 0.8156 - accuracy: 0.8004\n",
      "Epoch 90/150\n",
      "34/34 [==============================] - 0s 6ms/step - loss: 0.7848 - accuracy: 0.8126\n",
      "Epoch 91/150\n",
      "34/34 [==============================] - 0s 6ms/step - loss: 0.7673 - accuracy: 0.8154\n",
      "Epoch 92/150\n",
      "34/34 [==============================] - 0s 6ms/step - loss: 0.7595 - accuracy: 0.8210\n",
      "Epoch 93/150\n",
      "34/34 [==============================] - 0s 6ms/step - loss: 0.7181 - accuracy: 0.8276\n",
      "Epoch 94/150\n",
      "34/34 [==============================] - 0s 6ms/step - loss: 0.6846 - accuracy: 0.8529\n",
      "Epoch 95/150\n",
      "34/34 [==============================] - 0s 6ms/step - loss: 0.6785 - accuracy: 0.8435\n",
      "Epoch 96/150\n",
      "34/34 [==============================] - 0s 6ms/step - loss: 0.6447 - accuracy: 0.8425\n",
      "Epoch 97/150\n",
      "34/34 [==============================] - 0s 6ms/step - loss: 0.6241 - accuracy: 0.8575\n",
      "Epoch 98/150\n",
      "34/34 [==============================] - 0s 7ms/step - loss: 0.6126 - accuracy: 0.8613\n",
      "Epoch 99/150\n",
      "34/34 [==============================] - 0s 6ms/step - loss: 0.5914 - accuracy: 0.8725\n",
      "Epoch 100/150\n",
      "34/34 [==============================] - 0s 6ms/step - loss: 0.5803 - accuracy: 0.8660\n",
      "Epoch 101/150\n",
      "34/34 [==============================] - 0s 6ms/step - loss: 0.5515 - accuracy: 0.8791\n",
      "Epoch 102/150\n",
      "34/34 [==============================] - 0s 6ms/step - loss: 0.5226 - accuracy: 0.8978\n",
      "Epoch 103/150\n",
      "34/34 [==============================] - 0s 6ms/step - loss: 0.5180 - accuracy: 0.8960\n",
      "Epoch 104/150\n",
      "34/34 [==============================] - 0s 6ms/step - loss: 0.5065 - accuracy: 0.8885\n",
      "Epoch 105/150\n",
      "34/34 [==============================] - 0s 6ms/step - loss: 0.4931 - accuracy: 0.8960\n",
      "Epoch 106/150\n",
      "34/34 [==============================] - 0s 6ms/step - loss: 0.4764 - accuracy: 0.9035\n",
      "Epoch 107/150\n",
      "34/34 [==============================] - 0s 6ms/step - loss: 0.4914 - accuracy: 0.9007\n",
      "Epoch 108/150\n",
      "34/34 [==============================] - 0s 6ms/step - loss: 0.4727 - accuracy: 0.9016\n",
      "Epoch 109/150\n",
      "34/34 [==============================] - 0s 6ms/step - loss: 0.4405 - accuracy: 0.9063\n",
      "Epoch 110/150\n",
      "34/34 [==============================] - 0s 6ms/step - loss: 0.4110 - accuracy: 0.9288\n",
      "Epoch 111/150\n",
      "34/34 [==============================] - 0s 6ms/step - loss: 0.3919 - accuracy: 0.9325\n",
      "Epoch 112/150\n",
      "34/34 [==============================] - 0s 6ms/step - loss: 0.3795 - accuracy: 0.9344\n",
      "Epoch 113/150\n",
      "34/34 [==============================] - 0s 6ms/step - loss: 0.3646 - accuracy: 0.9428\n",
      "Epoch 114/150\n",
      "34/34 [==============================] - 0s 6ms/step - loss: 0.3550 - accuracy: 0.9325\n",
      "Epoch 115/150\n",
      "34/34 [==============================] - 0s 6ms/step - loss: 0.3456 - accuracy: 0.9391\n",
      "Epoch 116/150\n",
      "34/34 [==============================] - 0s 6ms/step - loss: 0.3346 - accuracy: 0.9381\n",
      "Epoch 117/150\n",
      "34/34 [==============================] - 0s 6ms/step - loss: 0.3366 - accuracy: 0.9438\n",
      "Epoch 118/150\n",
      "34/34 [==============================] - 0s 6ms/step - loss: 0.3264 - accuracy: 0.9428\n",
      "Epoch 119/150\n",
      "34/34 [==============================] - 0s 6ms/step - loss: 0.2936 - accuracy: 0.9588\n",
      "Epoch 120/150\n",
      "34/34 [==============================] - 0s 6ms/step - loss: 0.2938 - accuracy: 0.9522\n",
      "Epoch 121/150\n",
      "34/34 [==============================] - 0s 6ms/step - loss: 0.2811 - accuracy: 0.9569\n",
      "Epoch 122/150\n",
      "34/34 [==============================] - 0s 6ms/step - loss: 0.2678 - accuracy: 0.9616\n",
      "Epoch 123/150\n",
      "34/34 [==============================] - 0s 6ms/step - loss: 0.2572 - accuracy: 0.9644\n",
      "Epoch 124/150\n",
      "34/34 [==============================] - 0s 6ms/step - loss: 0.2468 - accuracy: 0.9616\n",
      "Epoch 125/150\n",
      "34/34 [==============================] - 0s 6ms/step - loss: 0.2391 - accuracy: 0.9672\n",
      "Epoch 126/150\n",
      "34/34 [==============================] - 0s 6ms/step - loss: 0.2372 - accuracy: 0.9644\n",
      "Epoch 127/150\n",
      "34/34 [==============================] - 0s 6ms/step - loss: 0.2401 - accuracy: 0.9625\n",
      "Epoch 128/150\n",
      "34/34 [==============================] - 0s 6ms/step - loss: 0.2383 - accuracy: 0.9644\n",
      "Epoch 129/150\n",
      "34/34 [==============================] - 0s 6ms/step - loss: 0.2178 - accuracy: 0.9719\n",
      "Epoch 130/150\n",
      "34/34 [==============================] - 0s 6ms/step - loss: 0.2048 - accuracy: 0.9803\n",
      "Epoch 131/150\n",
      "34/34 [==============================] - 0s 6ms/step - loss: 0.1936 - accuracy: 0.9803\n",
      "Epoch 132/150\n",
      "34/34 [==============================] - 0s 6ms/step - loss: 0.1836 - accuracy: 0.9841\n",
      "Epoch 133/150\n",
      "34/34 [==============================] - 0s 6ms/step - loss: 0.1826 - accuracy: 0.9822\n",
      "Epoch 134/150\n",
      "34/34 [==============================] - 0s 6ms/step - loss: 0.1667 - accuracy: 0.9831\n",
      "Epoch 135/150\n",
      "34/34 [==============================] - 0s 6ms/step - loss: 0.1554 - accuracy: 0.9878\n",
      "Epoch 136/150\n",
      "34/34 [==============================] - 0s 6ms/step - loss: 0.1516 - accuracy: 0.9878\n",
      "Epoch 137/150\n",
      "34/34 [==============================] - 0s 6ms/step - loss: 0.1445 - accuracy: 0.9888\n",
      "Epoch 138/150\n",
      "34/34 [==============================] - 0s 6ms/step - loss: 0.1393 - accuracy: 0.9888\n",
      "Epoch 139/150\n",
      "34/34 [==============================] - 0s 6ms/step - loss: 0.1319 - accuracy: 0.9906\n",
      "Epoch 140/150\n",
      "34/34 [==============================] - 0s 6ms/step - loss: 0.1262 - accuracy: 0.9944\n",
      "Epoch 141/150\n",
      "34/34 [==============================] - 0s 6ms/step - loss: 0.1250 - accuracy: 0.9934\n",
      "Epoch 142/150\n",
      "34/34 [==============================] - 0s 6ms/step - loss: 0.1285 - accuracy: 0.9906\n",
      "Epoch 143/150\n",
      "34/34 [==============================] - 0s 6ms/step - loss: 0.1232 - accuracy: 0.9934\n",
      "Epoch 144/150\n",
      "34/34 [==============================] - 0s 6ms/step - loss: 0.1141 - accuracy: 0.9925\n",
      "Epoch 145/150\n",
      "34/34 [==============================] - 0s 6ms/step - loss: 0.1065 - accuracy: 0.9953\n",
      "Epoch 146/150\n",
      "34/34 [==============================] - 0s 6ms/step - loss: 0.1024 - accuracy: 0.9934\n",
      "Epoch 147/150\n",
      "34/34 [==============================] - 0s 6ms/step - loss: 0.0971 - accuracy: 0.9934\n",
      "Epoch 148/150\n",
      "34/34 [==============================] - 0s 6ms/step - loss: 0.0960 - accuracy: 0.9944\n",
      "Epoch 149/150\n",
      "34/34 [==============================] - 0s 6ms/step - loss: 0.0957 - accuracy: 0.9944\n",
      "Epoch 150/150\n",
      "34/34 [==============================] - 0s 6ms/step - loss: 0.0875 - accuracy: 0.9953\n"
     ]
    }
   ],
   "source": [
    "record = model.fit(X,y, epochs = 150)"
   ]
  },
  {
   "cell_type": "code",
   "execution_count": 21,
   "metadata": {
    "execution": {
     "iopub.execute_input": "2021-07-02T02:54:18.856764Z",
     "iopub.status.busy": "2021-07-02T02:54:18.856602Z",
     "iopub.status.idle": "2021-07-02T02:54:18.882892Z",
     "shell.execute_reply": "2021-07-02T02:54:18.882438Z",
     "shell.execute_reply.started": "2021-07-02T02:54:18.856746Z"
    }
   },
   "outputs": [],
   "source": [
    "model.save('model.h5')"
   ]
  },
  {
   "cell_type": "code",
   "execution_count": 22,
   "metadata": {
    "execution": {
     "iopub.execute_input": "2021-07-02T02:54:18.883723Z",
     "iopub.status.busy": "2021-07-02T02:54:18.883573Z",
     "iopub.status.idle": "2021-07-02T02:54:19.273893Z",
     "shell.execute_reply": "2021-07-02T02:54:19.273417Z",
     "shell.execute_reply.started": "2021-07-02T02:54:18.883706Z"
    }
   },
   "outputs": [],
   "source": [
    "model = load_model('model.h5')"
   ]
  },
  {
   "cell_type": "code",
   "execution_count": 23,
   "metadata": {
    "execution": {
     "iopub.execute_input": "2021-07-02T02:54:19.276619Z",
     "iopub.status.busy": "2021-07-02T02:54:19.276451Z",
     "iopub.status.idle": "2021-07-02T02:54:19.381494Z",
     "shell.execute_reply": "2021-07-02T02:54:19.380994Z",
     "shell.execute_reply.started": "2021-07-02T02:54:19.276600Z"
    }
   },
   "outputs": [
    {
     "name": "stdout",
     "output_type": "stream",
     "text": [
      "loss at epoch 1: 5.8935041427612305\n",
      "loss at epoch 150: 0.08745501190423965\n"
     ]
    },
    {
     "data": {
      "text/plain": [
       "[<matplotlib.lines.Line2D at 0x7f93dc716400>]"
      ]
     },
     "execution_count": 23,
     "metadata": {},
     "output_type": "execute_result"
    },
    {
     "data": {
      "image/png": "[encoded data removed]",
      "text/plain": [
       "<Figure size 432x288 with 1 Axes>"
      ]
     },
     "metadata": {
      "needs_background": "light"
     },
     "output_type": "display_data"
    }
   ],
   "source": [
    "print(f\"loss at epoch 1: {record.history['loss'][0]}\")\n",
    "print(f\"loss at epoch 150: {record.history['loss'][149]}\")\n",
    "plt.plot(record.history['loss'])"
   ]
  },
  {
   "cell_type": "code",
   "execution_count": 24,
   "metadata": {
    "execution": {
     "iopub.execute_input": "2021-07-02T02:54:19.382845Z",
     "iopub.status.busy": "2021-07-02T02:54:19.382687Z",
     "iopub.status.idle": "2021-07-02T02:54:19.385094Z",
     "shell.execute_reply": "2021-07-02T02:54:19.384648Z",
     "shell.execute_reply.started": "2021-07-02T02:54:19.382828Z"
    }
   },
   "outputs": [],
   "source": [
    "seed_text = lines[10]"
   ]
  },
  {
   "cell_type": "code",
   "execution_count": 25,
   "metadata": {
    "execution": {
     "iopub.execute_input": "2021-07-02T02:54:19.385888Z",
     "iopub.status.busy": "2021-07-02T02:54:19.385742Z",
     "iopub.status.idle": "2021-07-02T02:54:19.389968Z",
     "shell.execute_reply": "2021-07-02T02:54:19.389504Z",
     "shell.execute_reply.started": "2021-07-02T02:54:19.385872Z"
    }
   },
   "outputs": [],
   "source": [
    "def generate_text_seq(model,tokenizer,text_seq_length,seed_text,n_words):\n",
    "    text = []\n",
    "    for _ in range(n_words):\n",
    "        encoded = tokenizer.texts_to_sequences([seed_text])[0]\n",
    "        encoded = pad_sequences([encoded],maxlen = text_seq_length,truncating = 'pre')\n",
    "        \n",
    "        y_predict = model.predict_classes(encoded)\n",
    "        \n",
    "        predicted_words = \" \"\n",
    "        for word,index in tokenizer.word_index.items():\n",
    "            if index == y_predict:\n",
    "                predicted_word = word\n",
    "                break\n",
    "        seed_text = seed_text + \" \" + predicted_word\n",
    "        text.append(predicted_word)\n",
    "    return \" \".join(text) "
   ]
  },
  {
   "cell_type": "code",
   "execution_count": 26,
   "metadata": {
    "execution": {
     "iopub.execute_input": "2021-07-02T02:54:19.390740Z",
     "iopub.status.busy": "2021-07-02T02:54:19.390591Z",
     "iopub.status.idle": "2021-07-02T02:54:22.595300Z",
     "shell.execute_reply": "2021-07-02T02:54:22.594799Z",
     "shell.execute_reply.started": "2021-07-02T02:54:19.390724Z"
    }
   },
   "outputs": [
    {
     "name": "stdout",
     "output_type": "stream",
     "text": [
      "WARNING:tensorflow:From <ipython-input-25-3b474758edbd>:7: Sequential.predict_classes (from tensorflow.python.keras.engine.sequential) is deprecated and will be removed after 2021-01-01.\n",
      "Instructions for updating:\n",
      "Please use instead:* `np.argmax(model.predict(x), axis=-1)`,   if your model does multi-class classification   (e.g. if it uses a `softmax` last-layer activation).* `(model.predict(x) > 0.5).astype(\"int32\")`,   if your model does binary classification   (e.g. if it uses a `sigmoid` last-layer activation).\n"
     ]
    },
    {
     "data": {
      "text/plain": [
       "'not just inspire me but also so many others to work harder to be better and to make a dent wherever we can so very very proud to be standing alongside you so in life you know there are moments when you stop and ask yourself did i get like am i standing well this is definitely one of those moments for me and i find myself going back to the beginning back to my roots i was born to incredible parents amazing parents who served as doctors in the indian army i was the first born and as far'"
      ]
     },
     "execution_count": 26,
     "metadata": {},
     "output_type": "execute_result"
    }
   ],
   "source": [
    "generate_text_seq(model,tokenizer,50,seed_text,100)"
   ]
  },
  {
   "cell_type": "code",
   "execution_count": null,
   "metadata": {},
   "outputs": [],
   "source": []
  }
 ],
 "metadata": {
  "kernelspec": {
   "display_name": "Python 3",
   "language": "python",
   "name": "python3"
  },
  "language_info": {
   "codemirror_mode": {
    "name": "ipython",
    "version": 3
   },
   "file_extension": ".py",
   "mimetype": "text/x-python",
   "name": "python",
   "nbconvert_exporter": "python",
   "pygments_lexer": "ipython3",
   "version": "3.7.3"
  }
 },
 "nbformat": 4,
 "nbformat_minor": 4
}
